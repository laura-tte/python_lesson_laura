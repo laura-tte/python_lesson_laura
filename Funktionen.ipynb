{
 "cells": [
  {
   "cell_type": "code",
   "execution_count": 1,
   "id": "c653244b",
   "metadata": {},
   "outputs": [],
   "source": [
    "dirty_isbns = [\n",
    "    \" ISBN 978-1449369415 \", \n",
    "    \"ISBN___978-1491946008 \",\n",
    "    \"ISBN 978-1593276034\"]"
   ]
  },
  {
   "cell_type": "code",
   "execution_count": 3,
   "id": "c5381715",
   "metadata": {},
   "outputs": [],
   "source": [
    "# Define leitet Funktion ein, gefolgt von Name, Klammern, Doppelpunkt\n",
    "def clean_isbn():\n",
    "    isbn = \" ISBN 978-1449369415 \"\n",
    "    print(isbn)"
   ]
  },
  {
   "cell_type": "code",
   "execution_count": 6,
   "id": "01341b47",
   "metadata": {},
   "outputs": [
    {
     "name": "stdout",
     "output_type": "stream",
     "text": [
      " ISBN 978-1449369415 \n"
     ]
    }
   ],
   "source": [
    "clean_isbn()"
   ]
  },
  {
   "cell_type": "code",
   "execution_count": 8,
   "id": "eed11b0c",
   "metadata": {},
   "outputs": [
    {
     "name": "stdout",
     "output_type": "stream",
     "text": [
      "ISBN 978-1449369415\n"
     ]
    }
   ],
   "source": [
    "def clean_isbn():\n",
    "    isbn = \" ISBN 978-1449369415 \"\n",
    "    isbn = isbn.strip()\n",
    "    print(isbn)\n",
    "    \n",
    "clean_isbn()"
   ]
  },
  {
   "cell_type": "code",
   "execution_count": 9,
   "id": "c3ba1672",
   "metadata": {},
   "outputs": [
    {
     "name": "stdout",
     "output_type": "stream",
     "text": [
      "978-1449369415\n"
     ]
    }
   ],
   "source": [
    "def clean_isbn():\n",
    "    isbn = \" ISBN 978-1449369415 \"\n",
    "    isbn = isbn.replace(\"ISBN\", \"\")\n",
    "    isbn = isbn.strip()\n",
    "    print(isbn)\n",
    "    \n",
    "clean_isbn()"
   ]
  },
  {
   "cell_type": "code",
   "execution_count": 11,
   "id": "dbea3d89",
   "metadata": {},
   "outputs": [
    {
     "name": "stdout",
     "output_type": "stream",
     "text": [
      "978-1449369415\n",
      "___978-1491946008\n",
      "978-1593276034\n"
     ]
    }
   ],
   "source": [
    "def clean_isbn(isbn):\n",
    "    isbn = isbn.replace(\"ISBN\", \"\")\n",
    "    isbn = isbn.strip()\n",
    "    print(isbn)\n",
    "    \n",
    "for d in dirty_isbns:\n",
    "    clean_isbn(d)"
   ]
  },
  {
   "cell_type": "code",
   "execution_count": 12,
   "id": "aec88af3",
   "metadata": {},
   "outputs": [
    {
     "name": "stdout",
     "output_type": "stream",
     "text": [
      "978-1449369415\n",
      "___978-1491946008\n",
      "978-1593276034\n"
     ]
    }
   ],
   "source": [
    "def clean_isbn(isbn):\n",
    "    isbn = isbn.replace(\"ISBN\", \"\")\n",
    "    isbn = isbn.strip()\n",
    "    return isbn\n",
    "    \n",
    "for d in dirty_isbns:\n",
    "    print(clean_isbn(d))"
   ]
  },
  {
   "cell_type": "code",
   "execution_count": 16,
   "id": "a11a0836",
   "metadata": {},
   "outputs": [
    {
     "name": "stdout",
     "output_type": "stream",
     "text": [
      "Verbesserte ISBN: 978-1449369415\n",
      "Verbesserte ISBN: ___978-1491946008\n",
      "Verbesserte ISBN: 978-1593276034\n"
     ]
    }
   ],
   "source": [
    "def clean_isbn(isbn):\n",
    "    isbn = isbn.replace(\"ISBN\", \"\")\n",
    "    isbn = isbn.strip()\n",
    "    isbn = isbn.\n",
    "    return isbn\n",
    "    \n",
    "for d in dirty_isbns:\n",
    "    cleaned_isbn = clean_isbn(d)\n",
    "    print(\"Verbesserte ISBN: \" + cleaned_isbn)"
   ]
  },
  {
   "cell_type": "code",
   "execution_count": null,
   "id": "f07ced82",
   "metadata": {},
   "outputs": [],
   "source": []
  }
 ],
 "metadata": {
  "kernelspec": {
   "display_name": "Python 3",
   "language": "python",
   "name": "python3"
  },
  "language_info": {
   "codemirror_mode": {
    "name": "ipython",
    "version": 3
   },
   "file_extension": ".py",
   "mimetype": "text/x-python",
   "name": "python",
   "nbconvert_exporter": "python",
   "pygments_lexer": "ipython3",
   "version": "3.8.8"
  }
 },
 "nbformat": 4,
 "nbformat_minor": 5
}
